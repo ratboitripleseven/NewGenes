{
 "cells": [
  {
   "attachments": {},
   "cell_type": "markdown",
   "metadata": {},
   "source": [
    "# reasons I should recreate HGTDB"
   ]
  },
  {
   "attachments": {},
   "cell_type": "markdown",
   "metadata": {},
   "source": [
    "- Mahalonobis distance is used as a measure of the distance between the codon usage of a gene (X) and the mean of an organism\n",
    "\n",
    "- each gene is a vector of 61-D space; rel freq of 61 codons (stop codons not included)\n",
    "\n",
    "- Mahalonobis distance defined as \n",
    "    - dM(X,Xhat) = (X-Xhat)^T * S^-1 * (X-Xhat)\n",
    "\n",
    "- The covariance S is a 61 X 61 covriance\n",
    "matrix\n",
    "    - Sij = sigma( (Xki - Xhati) * (Xkj - Xhatj)  )\n",
    "\n",
    "- Xhat is mean value for each codon!"
   ]
  },
  {
   "attachments": {},
   "cell_type": "markdown",
   "metadata": {},
   "source": [
    "important part is \n",
    "\n",
    "\"We calculated the Mahalanobis distance from each gene to the mean value of its own organism. These distances did not follow a normal distribution, so we could not apply the criteria regarding deviations >1.5\u0002 from the mean value to identify extraneous genes from codon usage. Instead we used a Montecarlo procedure\"\n",
    "\n",
    "- generating a random sample of 10,000 sequences from the means and standard deviations of the codon usage of each genome\n",
    "\n",
    "- The Mahalanobis distances of these sets of random sequences had a normal distribution, and so, we could calculate a mean value and a standard deviation"
   ]
  },
  {
   "attachments": {},
   "cell_type": "markdown",
   "metadata": {},
   "source": [
    "Genes were said to originate from HGT if they were \n",
    "\n",
    "- extraneous from G+C content and \n",
    "- codon usage, \n",
    "- if they were longer than 300 bp and \n",
    "- did not deviate from amino acid composition, or \n",
    "- if they were included in our defined alien genomic strips."
   ]
  },
  {
   "cell_type": "code",
   "execution_count": null,
   "metadata": {},
   "outputs": [],
   "source": []
  }
 ],
 "metadata": {
  "kernelspec": {
   "display_name": "eda",
   "language": "python",
   "name": "python3"
  },
  "language_info": {
   "name": "python",
   "version": "3.11.3"
  },
  "orig_nbformat": 4
 },
 "nbformat": 4,
 "nbformat_minor": 2
}
