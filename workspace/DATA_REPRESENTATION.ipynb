{
 "cells": [
  {
   "attachments": {},
   "cell_type": "markdown",
   "metadata": {},
   "source": [
    "# Detecting laterally transferred genes: use of entropic clustering methods and genome position\n",
    "- A) dna -> count(nucleotide)/length\n",
    "- B) compositional difference between genes -> 12 symbol\n",
    "- C) dinucleotide -> 48 symbol\n",
    "- D) codon usage"
   ]
  },
  {
   "attachments": {},
   "cell_type": "markdown",
   "metadata": {},
   "source": [
    "## Data rep"
   ]
  },
  {
   "attachments": {},
   "cell_type": "markdown",
   "metadata": {},
   "source": [
    "type I error: false positive\n",
    "\n",
    "\n",
    "type II error: false negative"
   ]
  },
  {
   "cell_type": "code",
   "execution_count": 6,
   "metadata": {},
   "outputs": [],
   "source": [
    "seq = 'AAAAGGGGCCCCTTTT'\n",
    "seq2 = 'AGAAGGGGCCCCTGTT'\n",
    "rna = (\"atgtttcagaaagaggatcttgctacatggatgcaaatttcaatgagtggtcaatttgatgatacagcattagaggaatggagtacaaatggtaaagaacctgagatctgtgagaaatctccaaaagctgatggagttactacgattatggagagagctctatgtccatgggatagcagagtcaactaccaagagagccgagaacctaaattgattgctgaatcagtttgtctatgccgtaagagccgtggttctacaggagctttctgtatgccaattgttcgaaaagttccaattctccgacgtgtctcttgtgatcgttcaacaggtttatggaattatgtaagatcaactgagctaataactgttggatgtcattctgtattgccaagaactcaaagagcagcacgtcttgcccatttatcatcttctcgtattattgtttaa\").upper()"
   ]
  },
  {
   "attachments": {},
   "cell_type": "markdown",
   "metadata": {},
   "source": [
    "A)"
   ]
  },
  {
   "cell_type": "code",
   "execution_count": 2,
   "metadata": {},
   "outputs": [
    {
     "name": "stdout",
     "output_type": "stream",
     "text": [
      "{'G': 0.22595078299776286, 'A': 0.29977628635346754, 'C': 0.174496644295302, 'T': 0.29977628635346754}\n"
     ]
    }
   ],
   "source": [
    "def relative_freq(sequence):\n",
    "    g_count=0 \n",
    "    a_count=0 \n",
    "    c_count=0 \n",
    "    t_count = 0\n",
    "    for base in sequence:\n",
    "            if base == 'G':\n",
    "                g_count +=1\n",
    "            elif base == 'A':\n",
    "                a_count +=1\n",
    "            elif base == 'C':\n",
    "                c_count +=1\n",
    "            elif base == 'T':\n",
    "                t_count +=1\n",
    "\n",
    "    rep = {\n",
    "       'G': g_count/len(sequence),\n",
    "        'A': a_count/len(sequence),\n",
    "        'C': c_count/len(sequence),\n",
    "        'T': t_count/len(sequence)\n",
    "    }\n",
    "    return rep\n",
    "    \n",
    "rep = relative_freq(rna)\n",
    "print(rep)"
   ]
  },
  {
   "attachments": {},
   "cell_type": "markdown",
   "metadata": {},
   "source": [
    "b) \n",
    "\n",
    "still something wrong with this! proba dist of codons does not add up to 1 for each pos! actually rather the calculations are right but the only way to make it a proba dist is to actually divide by total counts of each nucleotide instead of sequence!"
   ]
  },
  {
   "cell_type": "code",
   "execution_count": 3,
   "metadata": {},
   "outputs": [],
   "source": [
    "# faulty\n",
    "def comp_nucl(nucleotide_sequence):\n",
    "    d = {}\n",
    "    for nt in [\"A\", \"T\", \"G\", \"C\"]:\n",
    "        d[nt] = [0, 0, 0]\n",
    "    for i in range(0, len(seq), 3):\n",
    "        codon = nucleotide_sequence[i : i + 3]\n",
    "        if len(codon) < 3:\n",
    "            codon += \"  \"\n",
    "        for pos in range(0, 3):\n",
    "            for nt in [\"A\", \"T\", \"G\", \"C\"]:\n",
    "                if codon[pos] == nt or codon[pos] == nt.lower():\n",
    "                    d[nt][pos] += 1\n",
    "\n",
    "    #print(d)\n",
    "    # calculate length and divide\n",
    "    for codon_pos in range(0,3):\n",
    "        seq_length = len(nucleotide_sequence)-codon_pos\n",
    "        if seq_length%3 != 0:\n",
    "            number_of_codons = (seq_length-seq_length%3)/3\n",
    "            #print((length-length%3)/3)\n",
    "        else:\n",
    "            number_of_codons = (seq_length)/3\n",
    "            #print(length/3)\n",
    "        for nt in [\"A\", \"T\", \"G\", \"C\"]:\n",
    "            d[nt][codon_pos] =d[nt][codon_pos]/number_of_codons\n",
    "            \n",
    "    return d"
   ]
  },
  {
   "cell_type": "code",
   "execution_count": 4,
   "metadata": {},
   "outputs": [],
   "source": [
    "# correct mathematically\n",
    "def comp_nucl_correct(nucleotide_sequence):\n",
    "    d = {}\n",
    "    for nt in [\"A\", \"T\", \"G\", \"C\"]:\n",
    "        d[nt] = [0, 0, 0]\n",
    "    for i in range(0, len(seq), 3):\n",
    "        codon = nucleotide_sequence[i : i + 3]\n",
    "        if len(codon) < 3:\n",
    "            codon += \"  \"\n",
    "        for pos in range(0, 3):\n",
    "            for nt in [\"A\", \"T\", \"G\", \"C\"]:\n",
    "                if codon[pos] == nt or codon[pos] == nt.lower():\n",
    "                    d[nt][pos] += 1\n",
    "\n",
    "    #print(d)\n",
    "    # calculate length and divide\n",
    "    for codon_pos in range(0,3):\n",
    "        total_counts_per_pos = 0\n",
    "        for nt in [\"A\", \"T\", \"G\", \"C\"]:\n",
    "            total_counts_per_pos += d[nt][codon_pos]\n",
    "        for nt in [\"A\", \"T\", \"G\", \"C\"]:\n",
    "            d[nt][codon_pos] =d[nt][codon_pos]/total_counts_per_pos\n",
    "            \n",
    "    return d"
   ]
  },
  {
   "cell_type": "code",
   "execution_count": 5,
   "metadata": {},
   "outputs": [
    {
     "name": "stdout",
     "output_type": "stream",
     "text": [
      "{'A': [0.013422818791946308, 0.02702702702702703, 0.006756756756756757], 'T': [0.006711409395973154, 0.013513513513513514, 0.013513513513513514], 'G': [0.013422818791946308, 0.0, 0.02027027027027027], 'C': [0.006711409395973154, 0.0, 0.0]}\n"
     ]
    }
   ],
   "source": [
    "d = comp_nucl(rna)\n",
    "print(d)"
   ]
  },
  {
   "cell_type": "code",
   "execution_count": 6,
   "metadata": {},
   "outputs": [
    {
     "name": "stdout",
     "output_type": "stream",
     "text": [
      "{'A': [0.3333333333333333, 0.6666666666666666, 0.16666666666666666], 'T': [0.16666666666666666, 0.3333333333333333, 0.3333333333333333], 'G': [0.3333333333333333, 0.0, 0.5], 'C': [0.16666666666666666, 0.0, 0.0]}\n"
     ]
    }
   ],
   "source": [
    "d = comp_nucl_correct(rna)\n",
    "print(d)"
   ]
  },
  {
   "cell_type": "code",
   "execution_count": 7,
   "metadata": {},
   "outputs": [],
   "source": [
    "def codon_pos_length(length):\n",
    "    if length%3 != 0:\n",
    "        print((length-length%3)/3)\n",
    "    else:\n",
    "        print(length/3)"
   ]
  },
  {
   "cell_type": "code",
   "execution_count": 6,
   "metadata": {},
   "outputs": [
    {
     "name": "stdout",
     "output_type": "stream",
     "text": [
      "5.0\n",
      "5.0\n",
      "4.0\n"
     ]
    }
   ],
   "source": [
    "codon_pos_length(len(seq))\n",
    "codon_pos_length(len(seq)-1)\n",
    "codon_pos_length(len(seq)-2)"
   ]
  },
  {
   "attachments": {},
   "cell_type": "markdown",
   "metadata": {},
   "source": [
    "c)"
   ]
  },
  {
   "cell_type": "code",
   "execution_count": 4,
   "metadata": {},
   "outputs": [],
   "source": [
    "def comp_dinucl(sequence):\n",
    "    dn = {}\n",
    "    for nt in [\"AA\", \"AG\", \"AT\", \"AC\", \"TA\", \"TG\", \"TT\", \"TC\",\"GA\", \"GG\", \"GT\", \"GC\",\"CA\", \"CG\", \"CT\", \"CC\"]:\n",
    "        dn[nt] = [0, 0, 0]\n",
    "    for i in range(0, len(sequence), 3):\n",
    "        codon = sequence[i : i + 4]\n",
    "        if len(codon) < 4:\n",
    "            codon += \"  \"\n",
    "        for pos in range(0, 3):\n",
    "            for nt in [\"AA\", \"AG\", \"AT\", \"AC\", \"TA\", \"TG\", \"TT\", \"TC\",\"GA\", \"GG\", \"GT\", \"GC\",\"CA\", \"CG\", \"CT\", \"CC\"]:\n",
    "                if codon[pos] == nt[0] and codon[pos+1] == nt[1] :\n",
    "                    dn[nt][pos] += 1\n",
    "                elif codon[pos] == nt[0].lower() and codon[pos+1] == nt[1].lower():\n",
    "                    dn[nt][pos] += 1\n",
    "                    \n",
    "    # calculate length and divide\n",
    "    for codon_pos in range(0,3):\n",
    "        seq_length = len(sequence)-codon_pos\n",
    "        if seq_length%3 != 0:\n",
    "            number_of_codons = (seq_length-seq_length%3)/3\n",
    "            #print((length-length%3)/3)\n",
    "        else:\n",
    "            number_of_codons = (seq_length)/3\n",
    "            #print(length/3)\n",
    "        for nt in [\"AA\", \"AG\", \"AT\", \"AC\", \"TA\", \"TG\", \"TT\", \"TC\",\"GA\", \"GG\", \"GT\", \"GC\",\"CA\", \"CG\", \"CT\", \"CC\"]:\n",
    "            dn[nt][codon_pos] =dn[nt][codon_pos]/number_of_codons\n",
    "    return dn\n"
   ]
  },
  {
   "cell_type": "code",
   "execution_count": 9,
   "metadata": {},
   "outputs": [],
   "source": [
    "def comp_dinucl_correct(sequence):\n",
    "    dn = {}\n",
    "    for nt in [\"AA\", \"AG\", \"AT\", \"AC\", \"TA\", \"TG\", \"TT\", \"TC\",\"GA\", \"GG\", \"GT\", \"GC\",\"CA\", \"CG\", \"CT\", \"CC\"]:\n",
    "        dn[nt] = [0, 0, 0]\n",
    "    for i in range(0, len(sequence), 3):\n",
    "        codon = sequence[i : i + 4]\n",
    "        if len(codon) < 4:\n",
    "            codon += \"  \"\n",
    "        for pos in range(0, 3):\n",
    "            for nt in [\"AA\", \"AG\", \"AT\", \"AC\", \"TA\", \"TG\", \"TT\", \"TC\",\"GA\", \"GG\", \"GT\", \"GC\",\"CA\", \"CG\", \"CT\", \"CC\"]:\n",
    "                if codon[pos] == nt[0] and codon[pos+1] == nt[1] :\n",
    "                    dn[nt][pos] += 1\n",
    "                elif codon[pos] == nt[0].lower() and codon[pos+1] == nt[1].lower():\n",
    "                    dn[nt][pos] += 1\n",
    "                    \n",
    "    # calculate length and divide\n",
    "    for codon_pos in range(0,3):\n",
    "        total_counts_per_pos = 0\n",
    "        for nt in [\"AA\", \"AG\", \"AT\", \"AC\", \"TA\", \"TG\", \"TT\", \"TC\",\"GA\", \"GG\", \"GT\", \"GC\",\"CA\", \"CG\", \"CT\", \"CC\"]:\n",
    "            total_counts_per_pos += dn[nt][codon_pos]\n",
    "        for nt in [\"AA\", \"AG\", \"AT\", \"AC\", \"TA\", \"TG\", \"TT\", \"TC\",\"GA\", \"GG\", \"GT\", \"GC\",\"CA\", \"CG\", \"CT\", \"CC\"]:\n",
    "            dn[nt][codon_pos] =dn[nt][codon_pos]/total_counts_per_pos\n",
    "    return dn"
   ]
  },
  {
   "cell_type": "code",
   "execution_count": 7,
   "metadata": {},
   "outputs": [
    {
     "name": "stdout",
     "output_type": "stream",
     "text": [
      "{'AA': [0.06711409395973154, 0.10135135135135136, 0.10135135135135136], 'AG': [0.06711409395973154, 0.060810810810810814, 0.11486486486486487], 'AT': [0.09395973154362416, 0.07432432432432433, 0.10810810810810811], 'AC': [0.06711409395973154, 0.013513513513513514, 0.02702702702702703], 'TA': [0.020134228187919462, 0.060810810810810814, 0.0945945945945946], 'TG': [0.0738255033557047, 0.0472972972972973, 0.14864864864864866], 'TT': [0.053691275167785234, 0.11486486486486487, 0.08108108108108109], 'TC': [0.0738255033557047, 0.033783783783783786, 0.10135135135135136], 'GA': [0.11409395973154363, 0.07432432432432433, 0.08108108108108109], 'GG': [0.04697986577181208, 0.02702702702702703, 0.02702702702702703], 'GT': [0.06711409395973154, 0.12162162162162163, 0.006756756756756757], 'GC': [0.06040268456375839, 0.02702702702702703, 0.02702702702702703], 'CA': [0.04697986577181208, 0.12162162162162163, 0.013513513513513514], 'CG': [0.06040268456375839, 0.006756756756756757, 0.0], 'CT': [0.040268456375838924, 0.11486486486486487, 0.02702702702702703], 'CC': [0.04697986577181208, 0.006756756756756757, 0.04054054054054054]}\n"
     ]
    }
   ],
   "source": [
    "dn = comp_dinucl(rna)\n",
    "print(dn)"
   ]
  },
  {
   "cell_type": "code",
   "execution_count": 10,
   "metadata": {},
   "outputs": [
    {
     "name": "stdout",
     "output_type": "stream",
     "text": [
      "{'AA': [0.06711409395973154, 0.10067114093959731, 0.10135135135135136], 'AG': [0.06711409395973154, 0.06040268456375839, 0.11486486486486487], 'AT': [0.09395973154362416, 0.0738255033557047, 0.10810810810810811], 'AC': [0.06711409395973154, 0.013422818791946308, 0.02702702702702703], 'TA': [0.020134228187919462, 0.06040268456375839, 0.0945945945945946], 'TG': [0.0738255033557047, 0.04697986577181208, 0.14864864864864866], 'TT': [0.053691275167785234, 0.11409395973154363, 0.08108108108108109], 'TC': [0.0738255033557047, 0.03355704697986577, 0.10135135135135136], 'GA': [0.11409395973154363, 0.0738255033557047, 0.08108108108108109], 'GG': [0.04697986577181208, 0.026845637583892617, 0.02702702702702703], 'GT': [0.06711409395973154, 0.12080536912751678, 0.006756756756756757], 'GC': [0.06040268456375839, 0.026845637583892617, 0.02702702702702703], 'CA': [0.04697986577181208, 0.12080536912751678, 0.013513513513513514], 'CG': [0.06040268456375839, 0.006711409395973154, 0.0], 'CT': [0.040268456375838924, 0.11409395973154363, 0.02702702702702703], 'CC': [0.04697986577181208, 0.006711409395973154, 0.04054054054054054]}\n"
     ]
    }
   ],
   "source": [
    "dn = comp_dinucl_correct(rna)\n",
    "print(dn)"
   ]
  },
  {
   "attachments": {},
   "cell_type": "markdown",
   "metadata": {},
   "source": [
    "d) need to discuss about this"
   ]
  },
  {
   "cell_type": "code",
   "execution_count": 12,
   "metadata": {},
   "outputs": [],
   "source": [
    "import collections\n",
    "code = {\n",
    "    'ttt': 'F', 'tct': 'S', 'tat': 'Y', 'tgt': 'C',\n",
    "    'ttc': 'F', 'tcc': 'S', 'tac': 'Y', 'tgc': 'C',\n",
    "    'tta': 'L', 'tca': 'S', 'taa': '*', 'tga': '*',\n",
    "    'ttg': 'L', 'tcg': 'S', 'tag': '*', 'tgg': 'W',\n",
    "    'ctt': 'L', 'cct': 'P', 'cat': 'H', 'cgt': 'R',\n",
    "    'ctc': 'L', 'ccc': 'P', 'cac': 'H', 'cgc': 'R',\n",
    "    'cta': 'L', 'cca': 'P', 'caa': 'Q', 'cga': 'R',\n",
    "    'ctg': 'L', 'ccg': 'P', 'cag': 'Q', 'cgg': 'R',\n",
    "    'att': 'I', 'act': 'T', 'aat': 'N', 'agt': 'S',\n",
    "    'atc': 'I', 'acc': 'T', 'aac': 'N', 'agc': 'S',\n",
    "    'ata': 'I', 'aca': 'T', 'aaa': 'K', 'aga': 'R',\n",
    "    'atg': 'M', 'acg': 'T', 'aag': 'K', 'agg': 'R',\n",
    "    'gtt': 'V', 'gct': 'A', 'gat': 'D', 'ggt': 'G',\n",
    "    'gtc': 'V', 'gcc': 'A', 'gac': 'D', 'ggc': 'G',\n",
    "    'gta': 'V', 'gca': 'A', 'gaa': 'E', 'gga': 'G',\n",
    "    'gtg': 'V', 'gcg': 'A', 'gag': 'E', 'ggg': 'G'\n",
    "}\n",
    "def count_codons(cds):\n",
    "    counts = collections.defaultdict(int)\n",
    "    if len(cds)%3 != 0:\n",
    "        last_pos = len(cds) - (len(cds)%3)\n",
    "    else:\n",
    "        last_pos = len(cds)\n",
    "    for i in range(0,last_pos,3):\n",
    "       codon = cds[i:i+3]\n",
    "       counts[codon] += 1\n",
    "    return counts\n"
   ]
  },
  {
   "cell_type": "code",
   "execution_count": 16,
   "metadata": {},
   "outputs": [
    {
     "name": "stdout",
     "output_type": "stream",
     "text": [
      "defaultdict(<class 'int'>, {'AAA': 1, 'AGG': 1, 'GGC': 1, 'CCC': 1, 'TTT': 2})\n"
     ]
    },
    {
     "data": {
      "text/plain": [
       "0"
      ]
     },
     "execution_count": 16,
     "metadata": {},
     "output_type": "execute_result"
    }
   ],
   "source": [
    "cb = count_codons(seq+'TT')\n",
    "print(cb)\n",
    "cb['ATC']"
   ]
  },
  {
   "cell_type": "code",
   "execution_count": 42,
   "metadata": {},
   "outputs": [
    {
     "name": "stdout",
     "output_type": "stream",
     "text": [
      "7\n"
     ]
    }
   ],
   "source": [
    "sm = 0\n",
    "for i in code:\n",
    "    if code[i]=='K':\n",
    "        sm += cb[i.upper()]\n",
    "print(sm)"
   ]
  },
  {
   "attachments": {},
   "cell_type": "markdown",
   "metadata": {},
   "source": [
    "## JS divergence\n",
    "\n",
    "this stuff is symmetric!\n",
    "\n",
    "https://en.wikipedia.org/wiki/Jensen–Shannon_divergence\n",
    "\n",
    "JS(S1,s1) = H(S) - (L1/L)H(S1) - L2/LH(S2)\n",
    "\n",
    "where L= L1+L2\n",
    "\n",
    "and H(Sk) = - sigma ( fk(i) * log2fk(i))\n",
    "\n",
    "with S = s1 directsum s2"
   ]
  },
  {
   "cell_type": "code",
   "execution_count": 17,
   "metadata": {},
   "outputs": [],
   "source": [
    "import math\n",
    "seq = 'AAAAGGGGCCCCTTTT'\n",
    "seq2 = 'GGGGGGGGGGGAACCTT'\n",
    "seq3 = 'TTTTAAAAGGGGCCCC'"
   ]
  },
  {
   "cell_type": "code",
   "execution_count": 33,
   "metadata": {},
   "outputs": [],
   "source": [
    "def calculate_JS_relative_freq(sequence_1, sequence_2):\n",
    "    # calculate H(s1):\n",
    "    freq_1 = relative_freq(sequence_1)\n",
    "    freq_2 = relative_freq(sequence_2)\n",
    "    sigma_HS1 = 0\n",
    "    sigma_HS2 = 0\n",
    "    sigma_HS12 = 0\n",
    "    length_L1L2 = len(sequence_1)+len(sequence_2)\n",
    "    for nt in [\"A\", \"T\", \"G\", \"C\"]:\n",
    "        sigma_HS1 += freq_1[nt]*math.log(freq_1[nt],2)\n",
    "        sigma_HS2 += freq_2[nt]*math.log(freq_2[nt],2)\n",
    "        sigma_HS12 += ((((len(sequence_1)/length_L1L2)*freq_1[nt])+((len(sequence_2)/length_L1L2)*freq_2[nt])))*math.log(((((len(sequence_1)/length_L1L2)*freq_1[nt])+((len(sequence_2)/length_L1L2)*freq_2[nt]))),2)\n",
    "        \n",
    "    sigma_HS1= -1 *sigma_HS1\n",
    "    sigma_HS2= -1 *sigma_HS2\n",
    "    sigma_HS12 = -1 * sigma_HS12\n",
    "    JS_div = sigma_HS12 - ((len(sequence_1)/length_L1L2)*sigma_HS1) - ((len(sequence_2)/length_L1L2)*sigma_HS2)\n",
    "    print(sigma_HS1)\n",
    "    print(sigma_HS2)\n",
    "    print(sigma_HS12)\n",
    "    print(JS_div)\n"
   ]
  },
  {
   "attachments": {},
   "cell_type": "markdown",
   "metadata": {},
   "source": [
    "problem when distribution is 0"
   ]
  },
  {
   "cell_type": "code",
   "execution_count": 40,
   "metadata": {},
   "outputs": [],
   "source": [
    "def calculate_JS_freq_nucl(sequence_1, sequence_2):\n",
    "    # calculate H(s1):\n",
    "    freq_1 = comp_nucl(sequence_1)\n",
    "    freq_2 = comp_nucl(sequence_2)\n",
    "    sigma_HS1 = 0\n",
    "    sigma_HS2 = 0\n",
    "    sigma_HS12 = 0\n",
    "    length_L1L2 = len(sequence_1)+len(sequence_2)\n",
    "    # think about the length again for this case\n",
    "    for pos in range(0,3):\n",
    "        for nt in [\"A\", \"T\", \"G\", \"C\"]:\n",
    "            sigma_HS1 += freq_1[nt][pos]*math.log(freq_1[nt][pos],2)\n",
    "            sigma_HS2 += freq_2[nt][pos]*math.log(freq_2[nt][pos],2)\n",
    "            sigma_HS12 += ((((len(sequence_1)/length_L1L2)*freq_1[nt][pos])+((len(sequence_2)/length_L1L2)*freq_2[nt][pos])))*math.log(((((len(sequence_1)/length_L1L2)*freq_1[nt][pos])+((len(sequence_2)/length_L1L2)*freq_2[nt][pos]))),2)\n",
    "        \n",
    "        \n",
    "    sigma_HS1= -1 *sigma_HS1\n",
    "    sigma_HS2= -1 *sigma_HS2\n",
    "    sigma_HS12 = -1 * sigma_HS12\n",
    "    JS_div = sigma_HS12 - ((len(sequence_1)/length_L1L2)*sigma_HS1) - ((len(sequence_2)/length_L1L2)*sigma_HS2)\n",
    "    print(sigma_HS1)\n",
    "    print(sigma_HS2)\n",
    "    print(sigma_HS12)\n",
    "    print(JS_div)"
   ]
  },
  {
   "cell_type": "code",
   "execution_count": 44,
   "metadata": {},
   "outputs": [
    {
     "name": "stdout",
     "output_type": "stream",
     "text": [
      "{'A': [0.2, 0.0, 0.2], 'T': [0.2, 0.2, 0.0], 'G': [0.8, 0.8, 0.6], 'C': [0.0, 0.2, 0.2]}\n"
     ]
    },
    {
     "ename": "ValueError",
     "evalue": "math domain error",
     "output_type": "error",
     "traceback": [
      "\u001b[0;31m---------------------------------------------------------------------------\u001b[0m",
      "\u001b[0;31mValueError\u001b[0m                                Traceback (most recent call last)",
      "Cell \u001b[0;32mIn[44], line 3\u001b[0m\n\u001b[1;32m      1\u001b[0m freq_1 \u001b[39m=\u001b[39m comp_nucl(seq2)\n\u001b[1;32m      2\u001b[0m \u001b[39mprint\u001b[39m(freq_1)\n\u001b[0;32m----> 3\u001b[0m math\u001b[39m.\u001b[39;49mlog(freq_1[\u001b[39m'\u001b[39;49m\u001b[39mA\u001b[39;49m\u001b[39m'\u001b[39;49m][\u001b[39m1\u001b[39;49m],\u001b[39m2\u001b[39;49m)\n",
      "\u001b[0;31mValueError\u001b[0m: math domain error"
     ]
    }
   ],
   "source": [
    "freq_1 = comp_nucl(seq2)\n",
    "print(freq_1)\n",
    "math.log(freq_1['A'][1],2)"
   ]
  },
  {
   "cell_type": "code",
   "execution_count": 38,
   "metadata": {},
   "outputs": [
    {
     "name": "stdout",
     "output_type": "stream",
     "text": [
      "1.496065911543853\n",
      "2.0\n",
      "1.8585552118703144\n",
      "0.11815762107499617\n"
     ]
    }
   ],
   "source": [
    "calculate_JS_relative_freq(seq2,seq)"
   ]
  },
  {
   "cell_type": "code",
   "execution_count": 41,
   "metadata": {},
   "outputs": [
    {
     "ename": "ValueError",
     "evalue": "math domain error",
     "output_type": "error",
     "traceback": [
      "\u001b[0;31m---------------------------------------------------------------------------\u001b[0m",
      "\u001b[0;31mValueError\u001b[0m                                Traceback (most recent call last)",
      "Cell \u001b[0;32mIn[41], line 1\u001b[0m\n\u001b[0;32m----> 1\u001b[0m calculate_JS_freq_nucl(seq2,seq)\n",
      "Cell \u001b[0;32mIn[40], line 12\u001b[0m, in \u001b[0;36mcalculate_JS_freq_nucl\u001b[0;34m(sequence_1, sequence_2)\u001b[0m\n\u001b[1;32m     10\u001b[0m \u001b[39mfor\u001b[39;00m pos \u001b[39min\u001b[39;00m \u001b[39mrange\u001b[39m(\u001b[39m0\u001b[39m,\u001b[39m3\u001b[39m):\n\u001b[1;32m     11\u001b[0m     \u001b[39mfor\u001b[39;00m nt \u001b[39min\u001b[39;00m [\u001b[39m\"\u001b[39m\u001b[39mA\u001b[39m\u001b[39m\"\u001b[39m, \u001b[39m\"\u001b[39m\u001b[39mT\u001b[39m\u001b[39m\"\u001b[39m, \u001b[39m\"\u001b[39m\u001b[39mG\u001b[39m\u001b[39m\"\u001b[39m, \u001b[39m\"\u001b[39m\u001b[39mC\u001b[39m\u001b[39m\"\u001b[39m]:\n\u001b[0;32m---> 12\u001b[0m         sigma_HS1 \u001b[39m+\u001b[39m\u001b[39m=\u001b[39m freq_1[nt][pos]\u001b[39m*\u001b[39mmath\u001b[39m.\u001b[39;49mlog(freq_1[nt][pos],\u001b[39m2\u001b[39;49m)\n\u001b[1;32m     13\u001b[0m         sigma_HS2 \u001b[39m+\u001b[39m\u001b[39m=\u001b[39m freq_2[nt][pos]\u001b[39m*\u001b[39mmath\u001b[39m.\u001b[39mlog(freq_2[nt][pos],\u001b[39m2\u001b[39m)\n\u001b[1;32m     14\u001b[0m         sigma_HS12 \u001b[39m+\u001b[39m\u001b[39m=\u001b[39m ((((\u001b[39mlen\u001b[39m(sequence_1)\u001b[39m/\u001b[39mlength_L1L2)\u001b[39m*\u001b[39mfreq_1[nt][pos])\u001b[39m+\u001b[39m((\u001b[39mlen\u001b[39m(sequence_2)\u001b[39m/\u001b[39mlength_L1L2)\u001b[39m*\u001b[39mfreq_2[nt][pos])))\u001b[39m*\u001b[39mmath\u001b[39m.\u001b[39mlog(((((\u001b[39mlen\u001b[39m(sequence_1)\u001b[39m/\u001b[39mlength_L1L2)\u001b[39m*\u001b[39mfreq_1[nt][pos])\u001b[39m+\u001b[39m((\u001b[39mlen\u001b[39m(sequence_2)\u001b[39m/\u001b[39mlength_L1L2)\u001b[39m*\u001b[39mfreq_2[nt][pos]))),\u001b[39m2\u001b[39m)\n",
      "\u001b[0;31mValueError\u001b[0m: math domain error"
     ]
    }
   ],
   "source": [
    "calculate_JS_freq_nucl(seq2,seq)"
   ]
  },
  {
   "cell_type": "code",
   "execution_count": 20,
   "metadata": {},
   "outputs": [
    {
     "name": "stdout",
     "output_type": "stream",
     "text": [
      "2.0\n",
      "1.496065911543853\n",
      "1.8585552118703144\n",
      "0.11815762107499617\n"
     ]
    }
   ],
   "source": [
    "calculate_JS_relative_freq(seq,seq2)"
   ]
  },
  {
   "cell_type": "code",
   "execution_count": 21,
   "metadata": {},
   "outputs": [
    {
     "name": "stdout",
     "output_type": "stream",
     "text": [
      "2.0\n",
      "2.0\n",
      "2.0\n",
      "0.0\n"
     ]
    }
   ],
   "source": [
    "calculate_JS_relative_freq(seq,seq)"
   ]
  },
  {
   "cell_type": "code",
   "execution_count": 22,
   "metadata": {},
   "outputs": [
    {
     "name": "stdout",
     "output_type": "stream",
     "text": [
      "2.0\n",
      "2.0\n",
      "2.0\n",
      "0.0\n"
     ]
    }
   ],
   "source": [
    "calculate_JS_relative_freq(seq,seq3)"
   ]
  },
  {
   "cell_type": "code",
   "execution_count": 23,
   "metadata": {},
   "outputs": [
    {
     "name": "stdout",
     "output_type": "stream",
     "text": [
      "1.9664293749375243\n",
      "2.0\n",
      "1.9687608372464125\n",
      "0.0011713543153683698\n"
     ]
    }
   ],
   "source": [
    "calculate_JS_relative_freq(rna, seq)"
   ]
  },
  {
   "attachments": {},
   "cell_type": "markdown",
   "metadata": {},
   "source": [
    "## Custom agglomerative clustering"
   ]
  },
  {
   "cell_type": "code",
   "execution_count": null,
   "metadata": {},
   "outputs": [],
   "source": []
  }
 ],
 "metadata": {
  "kernelspec": {
   "display_name": "eda",
   "language": "python",
   "name": "python3"
  },
  "language_info": {
   "codemirror_mode": {
    "name": "ipython",
    "version": 3
   },
   "file_extension": ".py",
   "mimetype": "text/x-python",
   "name": "python",
   "nbconvert_exporter": "python",
   "pygments_lexer": "ipython3",
   "version": "3.11.3"
  },
  "orig_nbformat": 4
 },
 "nbformat": 4,
 "nbformat_minor": 2
}
